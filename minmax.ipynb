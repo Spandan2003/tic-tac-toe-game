{
 "cells": [
  {
   "cell_type": "code",
   "execution_count": 46,
   "metadata": {},
   "outputs": [],
   "source": [
    "import numpy as np"
   ]
  },
  {
   "cell_type": "code",
   "execution_count": 47,
   "metadata": {},
   "outputs": [
    {
     "data": {
      "text/plain": [
       "(5, 0)"
      ]
     },
     "execution_count": 47,
     "metadata": {},
     "output_type": "execute_result"
    }
   ],
   "source": [
    "import pygame\n",
    "import math\n",
    "\n",
    "from pygame.locals import *\n",
    "pygame.init()"
   ]
  },
  {
   "cell_type": "code",
   "execution_count": 48,
   "metadata": {},
   "outputs": [],
   "source": [
    "current_state = np.array([0 for i in range(9)])"
   ]
  },
  {
   "attachments": {},
   "cell_type": "markdown",
   "metadata": {},
   "source": [
    "0: blank\n",
    "-1: human\n",
    "    1: ai"
   ]
  },
  {
   "cell_type": "code",
   "execution_count": 49,
   "metadata": {},
   "outputs": [],
   "source": [
    "def eval(state):\n",
    "    result = [  state[0] + state[1] + state[2],\n",
    "                state[3] + state[4] + state[5],\n",
    "                state[6] + state[7] + state[8],\n",
    "                state[0] + state[3] + state[6],\n",
    "                state[1] + state[4] + state[7],\n",
    "                state[2] + state[5] + state[8],\n",
    "                state[0] + state[4] + state[8],\n",
    "                state[2] + state[4] + state[6]]\n",
    "    if 3 in result:\n",
    "        return 1\n",
    "    elif -3 in result:\n",
    "        return -1\n",
    "    else:\n",
    "        return 0\n"
   ]
  },
  {
   "cell_type": "code",
   "execution_count": 50,
   "metadata": {},
   "outputs": [],
   "source": [
    "def bestMove(state):\n",
    "    term = eval(state)\n",
    "    if term!=0 or not 0 in state:\n",
    "        return term, -1\n",
    "    move = []\n",
    "    for pos_move in range(9):\n",
    "        if(state[pos_move]==0):\n",
    "            move.append(pos_move)\n",
    "    result = -1000\n",
    "    best = 0\n",
    "    for m in move:\n",
    "        temp_state = state\n",
    "        temp_state[m] = 1\n",
    "        nextres, nextmove = bestMove(-temp_state)\n",
    "        (result, best) = max((result, best) , (-nextres, m), key= lambda l: l[0])\n",
    "        temp_state[m] = 0\n",
    "    return result, best\n",
    "\n"
   ]
  },
  {
   "cell_type": "markdown",
   "metadata": {},
   "source": [
    "st  = np.asarray([1 , -1 , 1,\n",
    "                  0 , -1 , 0,\n",
    "                  -1 , 1 , -1])\n",
    "display(st)\n",
    "res, m = bestMove(st)\n",
    "st[m] = 1\n",
    "display(st)"
   ]
  },
  {
   "cell_type": "code",
   "execution_count": 51,
   "metadata": {},
   "outputs": [],
   "source": [
    "def display(arr, over=False):                       #Present game on screen. If over then don't show instructions for next move\n",
    "    displ = ['X' if item == -1 else 'O' if item==1 else '_' for item in arr]\n",
    "    if not over:\n",
    "        print(\"Please enter the coordinates of your move in the following pattern:\")\n",
    "        print(\"0  1  2 \\n3  4  5 \\n6  7  8\")\n",
    "    for i in range(3):\n",
    "        for j in range(3):\n",
    "            print(displ[3*i+j], end = \"    \")\n",
    "        print()"
   ]
  },
  {
   "cell_type": "markdown",
   "metadata": {},
   "source": [
    "print(\"GAME START\")\n",
    "arr = np.asarray([0 for i in range(9)])\n",
    "err = True\n",
    "while(err):                                                 #Loop until correct input given\n",
    "    x = input(\"Do you want to start first? (y/n):  \")\n",
    "    if x=='y' or x=='Y':\n",
    "        err = False\n",
    "    elif x=='n' or x=='N':\n",
    "        pass\n",
    "        #compmov(4)                                          #If AI starts first, play center(4) move\n",
    "        err = False\n",
    "while(True):\n",
    "    display(arr)\n",
    "    correct = False\n",
    "    while(not correct):                                      #Loop until correct input given\n",
    "        mov = int(input(\"Your move: \"))\n",
    "        if( 0<=mov<=8 and arr[mov]==0):\n",
    "            correct=True\n",
    "        else:\n",
    "            print(\"WRONG INPUT. Please try again\")\n",
    "            display(arr)\n",
    "    arr[mov] = -1                                           #Comprehend human's move\n",
    "    if(eval(arr)==-1):                                      \n",
    "        print(\"YOU WON\")\n",
    "        break\n",
    "    if(not 0 in arr):                                       #No result and out of moves, we draw\n",
    "        print(\"A draw\")\n",
    "        break\n",
    "    nextres, nextmove = bestMove(arr)                           #Calculate AI's best move and comprehend it\n",
    "    arr[nextmove] = 1\n",
    "    if(eval(arr)==1):\n",
    "        print(\"Better luck Next Time\")\n",
    "        break\n",
    "    \n",
    "display(arr, True)\n",
    "print(\"END\")"
   ]
  },
  {
   "cell_type": "code",
   "execution_count": 52,
   "metadata": {},
   "outputs": [],
   "source": [
    "def getPos(move):\n",
    "    x = recta.centerx -8*l + (move%3)*8*l\n",
    "    y = recta.centery -8*l + (move//3)*8*l\n",
    "    return x,y\n",
    "\n",
    "def display(text, loc = (-1,-1)):                       #Present game on screen. If over then don't show instructions for next move\n",
    "    pygame.draw.rect(canvas, (215,109,219), textbox)\n",
    "    if loc == (-1,-1):\n",
    "        loc = (recta.centerx, recta.centery+12*l+(sizeOfWin[1]-recta.centery-12*l)//2)\n",
    "    my_font = pygame.font.SysFont('Comic Sans MS', 30)\n",
    "    text_surface = my_font.render(text, False, \"black\")\n",
    "    textRect = text_surface.get_rect()\n",
    "    textRect.center = loc\n",
    "    canvas.blit(text_surface, textRect)\n",
    "\n",
    "def cross(mov):\n",
    "    x,y = getPos(mov)\n",
    "    pygame.draw.line(canvas, \"black\", (x-1.5*1.4*l,y-1.5*1.4*l), (x+1.5*1.4*l,y+1.5*1.4*l), 4)\n",
    "    pygame.draw.line(canvas, \"black\", (x+1.5*1.4*l,y-1.5*1.4*l), (x-1.5*1.4*l,y+1.5*1.4*l), 4)\n",
    "\n",
    "def zeroes(mov):\n",
    "    x,y = getPos(mov)\n",
    "    pygame.draw.circle(canvas, \"black\", (x,y), 1.5*l, 5)\n",
    "\n",
    "sizeOfWin = (720, 480)\n",
    "l = 10\n",
    "\n",
    "pygame.display.init()\n",
    "pygame.display.set_caption(\"Tic Tac Toe\")\n",
    "canvas = pygame.display.set_mode(sizeOfWin)\n",
    "img = pygame.transform.scale(pygame.image.load(\"background.jpg\"), sizeOfWin)\n",
    "recta = pygame.Rect(0,0,26*l,26*l)\n",
    "recta.centerx, recta.centery = sizeOfWin[0]//2, sizeOfWin[1]//2\n",
    "textbox = pygame.Rect(0,sizeOfWin[1] - (sizeOfWin[1]-recta.centery-4*l)//2, sizeOfWin[0], (sizeOfWin[1]-recta.centery-4*l)//2)\n",
    "lineArrS = [[recta.centerx-12*l,recta.centery-4*l], [recta.centerx-12*l,recta.centery+4*l], [recta.centerx-4*l,recta.centery-12*l], [recta.centerx+4*l,recta.centery-12*l]]\n",
    "lineArrE = [[recta.centerx+12*l,recta.centery-4*l], [recta.centerx+12*l,recta.centery+4*l], [recta.centerx-4*l,recta.centery+12*l], [recta.centerx+4*l,recta.centery+12*l]]\n",
    "\n",
    "canvas.blit(img, (0, 0))\n",
    "pygame.draw.rect(canvas, \"white\", recta)\n",
    "pygame.draw.rect(canvas, (215,109,219), textbox)\n",
    "for i in range(len(lineArrS)):\n",
    "    pygame.draw.line(canvas, \"black\", lineArrS[i], lineArrE[i], width=5)"
   ]
  },
  {
   "cell_type": "code",
   "execution_count": 53,
   "metadata": {},
   "outputs": [],
   "source": [
    "arr =  np.asarray([0 for i in range(9)] )"
   ]
  },
  {
   "cell_type": "code",
   "execution_count": 54,
   "metadata": {},
   "outputs": [
    {
     "name": "stdout",
     "output_type": "stream",
     "text": [
      "(362, 243)\n",
      "122 123\n",
      "move = 4\n",
      "(1.525, 1.5375)\n",
      "(445, 342)\n",
      "205 222\n",
      "move = 8\n",
      "(2.5625, 2.775)\n",
      "(363, 165)\n",
      "123 45\n",
      "move = 1\n",
      "(1.5375, 0.5625)\n",
      "(274, 299)\n",
      "34 179\n",
      "move = 6\n",
      "(0.425, 2.2375)\n",
      "(452, 264)\n",
      "212 144\n",
      "move = 5\n",
      "(2.65, 1.8)\n"
     ]
    },
    {
     "ename": "error",
     "evalue": "video system not initialized",
     "output_type": "error",
     "traceback": [
      "\u001b[1;31m---------------------------------------------------------------------------\u001b[0m",
      "\u001b[1;31merror\u001b[0m                                     Traceback (most recent call last)",
      "\u001b[1;32md:\\Programs\\GitHub\\Repositeries\\tic-tac-toe-game\\minmax.ipynb Cell 12\u001b[0m in \u001b[0;36m<cell line: 3>\u001b[1;34m()\u001b[0m\n\u001b[0;32m     <a href='vscode-notebook-cell:/d%3A/Programs/GitHub/Repositeries/tic-tac-toe-game/minmax.ipynb#W5sZmlsZQ%3D%3D?line=46'>47</a>\u001b[0m         gameOn \u001b[39m=\u001b[39m \u001b[39mFalse\u001b[39;00m\n\u001b[0;32m     <a href='vscode-notebook-cell:/d%3A/Programs/GitHub/Repositeries/tic-tac-toe-game/minmax.ipynb#W5sZmlsZQ%3D%3D?line=48'>49</a>\u001b[0m \u001b[39m# Update the display using flip\u001b[39;00m\n\u001b[1;32m---> <a href='vscode-notebook-cell:/d%3A/Programs/GitHub/Repositeries/tic-tac-toe-game/minmax.ipynb#W5sZmlsZQ%3D%3D?line=49'>50</a>\u001b[0m pygame\u001b[39m.\u001b[39;49mdisplay\u001b[39m.\u001b[39;49mflip()\n",
      "\u001b[1;31merror\u001b[0m: video system not initialized"
     ]
    }
   ],
   "source": [
    "over = False\n",
    "gameOn = True\n",
    "while gameOn:\n",
    "    # for loop through the event queue\n",
    "    \n",
    "    for event in pygame.event.get():\n",
    "         \n",
    "        # Check for KEYDOWN event\n",
    "        if event.type == KEYDOWN:\n",
    "            # If the Escape key has been pressed set\n",
    "            # running to false to exit the main loop\n",
    "            if event.key == K_ESCAPE:\n",
    "                gameOn = False\n",
    "        if event.type == MOUSEBUTTONDOWN and not over:\n",
    "            pos = pygame.mouse.get_pos()\n",
    "            print(pos)\n",
    "            print(pos[0] - recta.centerx + 12*l, pos[1] - recta.centery + 12*l)\n",
    "            pos = ((pos[0] - recta.centerx + 12*l)/8/l , (pos[1] - recta.centery + 12*l)/8/l)\n",
    "            mov = 3*math.floor(pos[1])+math.floor(pos[0])\n",
    "            print(\"move = \"+str(mov))\n",
    "            print(pos)\n",
    "            if(0<=pos[0]<=3 and 0<=pos[1]<=3 and arr[mov]==0):\n",
    "                arr[mov] = -1\n",
    "                cross(mov)\n",
    "                res = eval(arr)\n",
    "                if res==-1:\n",
    "                    display(\"You Win\")\n",
    "                    over=True\n",
    "                    break\n",
    "                if(not 0 in arr):                                       #No result and out of moves, we draw\n",
    "                    display(\"A Draw\")\n",
    "                    over = True\n",
    "                    break\n",
    "                nextres, nextmove = bestMove(arr)                           #Calculate AI's best move and comprehend it\n",
    "                arr[nextmove] = 1\n",
    "                zeroes(nextmove)\n",
    "                res = eval(arr)\n",
    "                if(res==1):\n",
    "                    display(\"You Lose\")\n",
    "                    over=True\n",
    "                    break\n",
    "            else:\n",
    "                display(\"WRONG MOVE\")\n",
    "        # Check for QUIT event\n",
    "        elif event.type == QUIT:\n",
    "            pygame.display.quit()\n",
    "            gameOn = False\n",
    "    \n",
    "    # Update the display using flip\n",
    "    pygame.display.flip()"
   ]
  }
 ],
 "metadata": {
  "kernelspec": {
   "display_name": "Python 3",
   "language": "python",
   "name": "python3"
  },
  "language_info": {
   "codemirror_mode": {
    "name": "ipython",
    "version": 3
   },
   "file_extension": ".py",
   "mimetype": "text/x-python",
   "name": "python",
   "nbconvert_exporter": "python",
   "pygments_lexer": "ipython3",
   "version": "3.10.1"
  },
  "orig_nbformat": 4
 },
 "nbformat": 4,
 "nbformat_minor": 2
}
